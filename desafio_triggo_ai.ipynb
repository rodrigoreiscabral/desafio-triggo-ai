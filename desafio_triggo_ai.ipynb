{
  "nbformat": 4,
  "nbformat_minor": 0,
  "metadata": {
    "colab": {
      "provenance": []
    },
    "kernelspec": {
      "name": "python3",
      "display_name": "Python 3"
    },
    "language_info": {
      "name": "python"
    }
  },
  "cells": [
    {
      "cell_type": "markdown",
      "source": [
        "# ***Teste Técnico - Programa Trainee triggo.ai de Excelência em Engenharia de Dados e DataOps 2025***"
      ],
      "metadata": {
        "id": "zBfoz9fxSLLT"
      }
    },
    {
      "cell_type": "markdown",
      "source": [
        "# **1. Preparação dos Dados**"
      ],
      "metadata": {
        "id": "AcHGar5mBb0N"
      }
    },
    {
      "cell_type": "code",
      "execution_count": 53,
      "metadata": {
        "colab": {
          "base_uri": "https://localhost:8080/"
        },
        "id": "VdShOg0gKiXz",
        "outputId": "a12337ac-2b25-421e-83a6-9c4d87baccf4"
      },
      "outputs": [
        {
          "output_type": "stream",
          "name": "stdout",
          "text": [
            "Path to dataset files: /kaggle/input/brazilian-ecommerce\n"
          ]
        }
      ],
      "source": [
        "import pandas as pd\n",
        "import matplotlib.pyplot as plt\n",
        "import seaborn as sns\n",
        "import numpy as np\n",
        "import os\n",
        "import kagglehub\n",
        "import plotly.express as px\n",
        "from geopy.distance import geodesic\n",
        "from sklearn.model_selection import train_test_split\n",
        "from sklearn.ensemble import RandomForestClassifier\n",
        "from sklearn.metrics import classification_report, confusion_matrix\n",
        "from sklearn.preprocessing import StandardScaler\n",
        "from sklearn.cluster import KMeans\n",
        "\n",
        "path = kagglehub.dataset_download(\"olistbr/brazilian-ecommerce\")\n",
        "print(\"Path to dataset files:\", path)"
      ]
    },
    {
      "cell_type": "code",
      "source": [
        "# Lista os arquivos disponíveis no diretório baixado\n",
        "files = os.listdir(path)\n",
        "print(\"Arquivos disponíveis:\", files)"
      ],
      "metadata": {
        "colab": {
          "base_uri": "https://localhost:8080/"
        },
        "id": "rLheXdMvjUKw",
        "outputId": "56170bb8-493e-4461-c7eb-a75ac7617ac2"
      },
      "execution_count": 54,
      "outputs": [
        {
          "output_type": "stream",
          "name": "stdout",
          "text": [
            "Arquivos disponíveis: ['olist_customers_dataset.csv', 'olist_sellers_dataset.csv', 'olist_order_reviews_dataset.csv', 'olist_order_items_dataset.csv', 'olist_products_dataset.csv', 'olist_geolocation_dataset.csv', 'product_category_name_translation.csv', 'olist_orders_dataset.csv', 'olist_order_payments_dataset.csv']\n"
          ]
        }
      ]
    },
    {
      "cell_type": "code",
      "source": [
        "# Carrega os arquivos CSV em um dicionário de DataFrames\n",
        "dataframes = {}\n",
        "for file in files:\n",
        "    df_name = file.replace('.csv', '')\n",
        "    df_path = os.path.join(path, file)\n",
        "    dataframes[df_name] = pd.read_csv(df_path)"
      ],
      "metadata": {
        "id": "8u7DBU7bxct1"
      },
      "execution_count": 55,
      "outputs": []
    },
    {
      "cell_type": "code",
      "source": [
        "# Função para limpar um DataFrame\n",
        "def limpar_df(df, nome):\n",
        "    print(f\"\\n--- Limpando {nome} ---\")\n",
        "    linhas_antes = df.shape[0]\n",
        "\n",
        "    # Remove duplicatas\n",
        "    df = df.drop_duplicates()\n",
        "    linhas_depois = df.shape[0]\n",
        "    print(f\"Removidas {linhas_antes - linhas_depois} duplicatas.\")\n",
        "\n",
        "    # Verifica valores nulos\n",
        "    nulos = df.isnull().sum()\n",
        "    print(\"Valores nulos por coluna:\\n\", nulos[nulos > 0])\n",
        "\n",
        "    # Remove linhas com nulos\n",
        "    df = df.dropna()\n",
        "    print(f\"Total de linhas após remoção de nulos: {df.shape[0]}\")\n",
        "\n",
        "    return df\n",
        "\n",
        "# Aplica a limpeza para cada DataFrame\n",
        "dataframes_limpos = {}\n",
        "for nome, df in dataframes.items():\n",
        "    df_limpo = limpar_df(df, nome)\n",
        "    dataframes_limpos[nome] = df_limpo"
      ],
      "metadata": {
        "colab": {
          "base_uri": "https://localhost:8080/"
        },
        "id": "U-EP4TtFzt8R",
        "outputId": "6e4118ab-81a3-4961-9941-a381ef74b8ef"
      },
      "execution_count": 56,
      "outputs": [
        {
          "output_type": "stream",
          "name": "stdout",
          "text": [
            "\n",
            "--- Limpando olist_customers_dataset ---\n",
            "Removidas 0 duplicatas.\n",
            "Valores nulos por coluna:\n",
            " Series([], dtype: int64)\n",
            "Total de linhas após remoção de nulos: 99441\n",
            "\n",
            "--- Limpando olist_sellers_dataset ---\n",
            "Removidas 0 duplicatas.\n",
            "Valores nulos por coluna:\n",
            " Series([], dtype: int64)\n",
            "Total de linhas após remoção de nulos: 3095\n",
            "\n",
            "--- Limpando olist_order_reviews_dataset ---\n",
            "Removidas 0 duplicatas.\n",
            "Valores nulos por coluna:\n",
            " review_comment_title      87656\n",
            "review_comment_message    58247\n",
            "dtype: int64\n",
            "Total de linhas após remoção de nulos: 9839\n",
            "\n",
            "--- Limpando olist_order_items_dataset ---\n",
            "Removidas 0 duplicatas.\n",
            "Valores nulos por coluna:\n",
            " Series([], dtype: int64)\n",
            "Total de linhas após remoção de nulos: 112650\n",
            "\n",
            "--- Limpando olist_products_dataset ---\n",
            "Removidas 0 duplicatas.\n",
            "Valores nulos por coluna:\n",
            " product_category_name         610\n",
            "product_name_lenght           610\n",
            "product_description_lenght    610\n",
            "product_photos_qty            610\n",
            "product_weight_g                2\n",
            "product_length_cm               2\n",
            "product_height_cm               2\n",
            "product_width_cm                2\n",
            "dtype: int64\n",
            "Total de linhas após remoção de nulos: 32340\n",
            "\n",
            "--- Limpando olist_geolocation_dataset ---\n",
            "Removidas 261831 duplicatas.\n",
            "Valores nulos por coluna:\n",
            " Series([], dtype: int64)\n",
            "Total de linhas após remoção de nulos: 738332\n",
            "\n",
            "--- Limpando product_category_name_translation ---\n",
            "Removidas 0 duplicatas.\n",
            "Valores nulos por coluna:\n",
            " Series([], dtype: int64)\n",
            "Total de linhas após remoção de nulos: 71\n",
            "\n",
            "--- Limpando olist_orders_dataset ---\n",
            "Removidas 0 duplicatas.\n",
            "Valores nulos por coluna:\n",
            " order_approved_at                 160\n",
            "order_delivered_carrier_date     1783\n",
            "order_delivered_customer_date    2965\n",
            "dtype: int64\n",
            "Total de linhas após remoção de nulos: 96461\n",
            "\n",
            "--- Limpando olist_order_payments_dataset ---\n",
            "Removidas 0 duplicatas.\n",
            "Valores nulos por coluna:\n",
            " Series([], dtype: int64)\n",
            "Total de linhas após remoção de nulos: 103886\n"
          ]
        }
      ]
    },
    {
      "cell_type": "code",
      "source": [
        "# Criação do modelo relacional\n",
        "# Tabelas principais\n",
        "orders = dataframes_limpos['olist_orders_dataset']\n",
        "order_items = dataframes_limpos['olist_order_items_dataset']\n",
        "customers = dataframes_limpos['olist_customers_dataset']\n",
        "products = dataframes_limpos['olist_products_dataset']\n",
        "sellers = dataframes_limpos['olist_sellers_dataset']\n",
        "payments = dataframes_limpos['olist_order_payments_dataset']\n",
        "reviews = dataframes_limpos['olist_order_reviews_dataset']\n",
        "geolocation = dataframes_limpos['olist_geolocation_dataset']\n",
        "category_translation = dataframes_limpos['product_category_name_translation']\n",
        "\n",
        "# Relaciona customers com orders\n",
        "orders_customers = orders.merge(customers, on='customer_id', how='left')\n",
        "\n",
        "# Relaciona orders com order_items\n",
        "orders_full = orders_customers.merge(order_items, on='order_id', how='left')\n",
        "\n",
        "# Relaciona com produtos\n",
        "orders_full = orders_full.merge(products, on='product_id', how='left')\n",
        "\n",
        "# Relaciona com vendedores\n",
        "orders_full = orders_full.merge(sellers, on='seller_id', how='left')\n",
        "\n",
        "# Relaciona com pagamentos\n",
        "orders_full = orders_full.merge(payments, on='order_id', how='left')\n",
        "\n",
        "# Relaciona com avaliações\n",
        "orders_full = orders_full.merge(reviews, on='order_id', how='left')\n",
        "\n",
        "# Relaciona com nome traduzido da categoria de produto\n",
        "orders_full = orders_full.merge(category_translation, on='product_category_name', how='left')\n",
        "\n",
        "# Resultado final\n",
        "print(\"Modelo relacional criado. Shape final:\", orders_full.shape)"
      ],
      "metadata": {
        "colab": {
          "base_uri": "https://localhost:8080/"
        },
        "id": "MABgnF3Z2Ehx",
        "outputId": "ccc8bff3-406f-4d16-c9ee-aefd898a515b"
      },
      "execution_count": 57,
      "outputs": [
        {
          "output_type": "stream",
          "name": "stdout",
          "text": [
            "Modelo relacional criado. Shape final: (115033, 40)\n"
          ]
        }
      ]
    },
    {
      "cell_type": "markdown",
      "source": [
        "A preparação dos dados foi inciada por meio do download dos arquivos do dataset da Olist, que foram posteriormente carregados em um dicionário de DataFrames. Em seguida, foi aplicada uma função de limpeza para cada DataFrame, que removeu duplicatas e eliminou todas as linhas que continham valores nulos. Após essa limpeza, iniciou-se a construção do modelo relacional entre as tabelas principais: os dados de pedidos foram conectados aos de clientes, itens do pedido, produtos, vendedores, pagamentos e avaliações, utilizando chaves primárias e estrangeiras apropriadas para posterior análise."
      ],
      "metadata": {
        "id": "VjfJjtjB49NH"
      }
    },
    {
      "cell_type": "markdown",
      "source": [
        "# **2. Análise Exploratória de Dados**"
      ],
      "metadata": {
        "id": "guDPt01KBt3E"
      }
    },
    {
      "cell_type": "markdown",
      "source": [
        "## a) Qual o volume de pedidos por mês? Existe sazonalidade nas vendas?"
      ],
      "metadata": {
        "id": "u5DV6bV7CJUT"
      }
    },
    {
      "cell_type": "code",
      "source": [
        "# Garante que a coluna de data está no formato datetime\n",
        "orders['order_purchase_timestamp'] = pd.to_datetime(orders['order_purchase_timestamp'])\n",
        "\n",
        "# Cria coluna de ano-mês\n",
        "orders['ano_mes'] = orders['order_purchase_timestamp'].dt.to_period('M')\n",
        "\n",
        "# Agrupa por ano e mês e contar pedidos\n",
        "pedidos_por_mes = orders.groupby('ano_mes')['order_id'].count().reset_index()\n",
        "pedidos_por_mes.columns = ['ano_mes', 'volume_pedidos']\n",
        "\n",
        "# Exibe resultado\n",
        "print(pedidos_por_mes.to_string(index=False))"
      ],
      "metadata": {
        "colab": {
          "base_uri": "https://localhost:8080/"
        },
        "id": "xq5Fl9EZBxLT",
        "outputId": "ee1d0135-7b11-4ff1-c1a3-7f888f9685ef"
      },
      "execution_count": 58,
      "outputs": [
        {
          "output_type": "stream",
          "name": "stdout",
          "text": [
            "ano_mes  volume_pedidos\n",
            "2016-09               1\n",
            "2016-10             270\n",
            "2016-12               1\n",
            "2017-01             748\n",
            "2017-02            1641\n",
            "2017-03            2546\n",
            "2017-04            2303\n",
            "2017-05            3545\n",
            "2017-06            3135\n",
            "2017-07            3872\n",
            "2017-08            4193\n",
            "2017-09            4149\n",
            "2017-10            4478\n",
            "2017-11            7288\n",
            "2017-12            5513\n",
            "2018-01            7069\n",
            "2018-02            6556\n",
            "2018-03            7003\n",
            "2018-04            6798\n",
            "2018-05            6749\n",
            "2018-06            6096\n",
            "2018-07            6156\n",
            "2018-08            6351\n"
          ]
        }
      ]
    },
    {
      "cell_type": "code",
      "source": [
        "# Remove meses com menos de 100 pedidos\n",
        "limiar = 100\n",
        "pedidos_validos = pedidos_por_mes[pedidos_por_mes['volume_pedidos'] >= limiar].copy()\n",
        "\n",
        "# Média geral de pedidos por mês (após remoção)\n",
        "media_geral = pedidos_validos['volume_pedidos'].mean()\n",
        "print(f\"Média geral de pedidos por mês (excluindo meses com menos de {limiar} pedidos): {media_geral:.2f}\")\n",
        "\n",
        "# Adiciona coluna com apenas o mês (ex: '01' para janeiro)\n",
        "pedidos_validos['mes'] = pedidos_validos['ano_mes'].dt.month\n",
        "\n",
        "# Calcula média de pedidos por mês (considerando todos os anos)\n",
        "media_por_mes = pedidos_validos.groupby('mes')['volume_pedidos'].mean().reset_index()\n",
        "media_por_mes.columns = ['mes', 'media_pedidos']\n",
        "print(\"\\nMédia de pedidos por mês:\")\n",
        "print(media_por_mes.to_string(index=False))"
      ],
      "metadata": {
        "colab": {
          "base_uri": "https://localhost:8080/"
        },
        "id": "Y5KlnFp9DqLD",
        "outputId": "56fcf122-02d1-460a-f687-282b2e841d2e"
      },
      "execution_count": 59,
      "outputs": [
        {
          "output_type": "stream",
          "name": "stdout",
          "text": [
            "Média geral de pedidos por mês (excluindo meses com menos de 100 pedidos): 4593.29\n",
            "\n",
            "Média de pedidos por mês:\n",
            " mes  media_pedidos\n",
            "   1         3908.5\n",
            "   2         4098.5\n",
            "   3         4774.5\n",
            "   4         4550.5\n",
            "   5         5147.0\n",
            "   6         4615.5\n",
            "   7         5014.0\n",
            "   8         5272.0\n",
            "   9         4149.0\n",
            "  10         2374.0\n",
            "  11         7288.0\n",
            "  12         5513.0\n"
          ]
        }
      ]
    },
    {
      "cell_type": "markdown",
      "source": [
        "O volume médio de pedidos por mês é de 4593.29. Além disso, observa-se sazonalidade nas vendas por meio do aumento expressivo no número de pedidos em novembro, impulsionado principalmente pelas promoções da Black Friday, que representam o pico de vendas do ano. Em seguida, dezembro também apresenta um volume elevado, provavelmente devido às compras de Natal. Por outro lado, há quedas perceptíveis em outubro e setembro, meses que antecedem a Black Friday, e no início do ano, especialmente em janeiro, refletindo uma desaceleração típica do pós-festas.\n"
      ],
      "metadata": {
        "id": "TTiEJOz9C27d"
      }
    },
    {
      "cell_type": "markdown",
      "source": [
        "## b) Qual a distribuição do tempo de entrega dos pedidos?"
      ],
      "metadata": {
        "id": "nmdLkGW2CRH7"
      }
    },
    {
      "cell_type": "code",
      "source": [
        "# Filtra pedidos entregues\n",
        "pedidos_entregues = orders[orders['order_status'] == 'delivered'].copy()\n",
        "\n",
        "# Converte colunas de data para datetime (se ainda não estiverem)\n",
        "pedidos_entregues['order_purchase_timestamp'] = pd.to_datetime(pedidos_entregues['order_purchase_timestamp'])\n",
        "pedidos_entregues['order_delivered_customer_date'] = pd.to_datetime(pedidos_entregues['order_delivered_customer_date'])\n",
        "\n",
        "# Calcula tempo de entrega em dias\n",
        "pedidos_entregues['tempo_entrega'] = (pedidos_entregues['order_delivered_customer_date'] - pedidos_entregues['order_purchase_timestamp']).dt.days\n",
        "\n",
        "# Remove valores negativos ou inválidos (caso existam)\n",
        "pedidos_entregues = pedidos_entregues[pedidos_entregues['tempo_entrega'] >= 0]\n",
        "\n",
        "# Exibe estatísticas da distribuição\n",
        "print(\"Estatísticas da distribuição do tempo de entrega (em dias):\")\n",
        "print(pedidos_entregues['tempo_entrega'].describe())\n",
        "\n",
        "# Plota o histograma da distribuição\n",
        "plt.figure(figsize=(10, 5))\n",
        "plt.hist(pedidos_entregues['tempo_entrega'], bins=30, color='skyblue', edgecolor='black')\n",
        "plt.title('Distribuição do Tempo de Entrega dos Pedidos')\n",
        "plt.xlabel('Tempo de entrega (dias)')\n",
        "plt.ylabel('Quantidade de pedidos')\n",
        "plt.grid(True)\n",
        "plt.show()"
      ],
      "metadata": {
        "colab": {
          "base_uri": "https://localhost:8080/",
          "height": 679
        },
        "id": "Pm59JfkVLfOm",
        "outputId": "beb858e9-8134-4d08-8637-7032c4aa503a"
      },
      "execution_count": 60,
      "outputs": [
        {
          "output_type": "stream",
          "name": "stdout",
          "text": [
            "Estatísticas da distribuição do tempo de entrega (em dias):\n",
            "count    96455.000000\n",
            "mean        12.093100\n",
            "std          9.551209\n",
            "min          0.000000\n",
            "25%          6.000000\n",
            "50%         10.000000\n",
            "75%         15.000000\n",
            "max        209.000000\n",
            "Name: tempo_entrega, dtype: float64\n"
          ]
        },
        {
          "output_type": "display_data",
          "data": {
            "text/plain": [
              "<Figure size 1000x500 with 1 Axes>"
            ],
            "image/png": "[encoded data removed]"
          },
          "metadata": {}
        }
      ]
    },
    {
      "cell_type": "markdown",
      "source": [
        "A distribuição do tempo de entrega dos pedidos revela que, em média, os consumidores receberam seus produtos em cerca de 12 dias após a compra. A maioria das entregas (50% dos casos) ocorreu em até 10 dias, com 75% sendo concluídas em até 15 dias. Apesar disso, há uma grande variabilidade nos prazos, com entregas que chegam no mesmo dia (mínimo de 0 dias) e casos extremos que levaram até 209 dias."
      ],
      "metadata": {
        "id": "Fjq0gpYuL-0W"
      }
    },
    {
      "cell_type": "markdown",
      "source": [
        "## c) Qual a relação entre o valor do frete e a distância de entrega?"
      ],
      "metadata": {
        "id": "w6F8PHgdCVRL"
      }
    },
    {
      "cell_type": "code",
      "source": [
        "# Junta pedidos com dados de clientes e vendedores\n",
        "df = orders.merge(order_items, on='order_id')\n",
        "df = df.merge(customers, on='customer_id')\n",
        "df = df.merge(sellers, on='seller_id')\n",
        "df = df.merge(payments, on='order_id')\n",
        "\n",
        "# Seleciona a geolocalização média para cada zip prefix\n",
        "geo = geolocation.groupby('geolocation_zip_code_prefix')[['geolocation_lat', 'geolocation_lng']].mean().reset_index()\n",
        "geo.columns = ['zip_code_prefix', 'lat', 'lng']\n",
        "\n",
        "# Junta localização do cliente\n",
        "df = df.merge(geo, left_on='customer_zip_code_prefix', right_on='zip_code_prefix', how='left')\n",
        "df.rename(columns={'lat': 'customer_lat', 'lng': 'customer_lng'}, inplace=True)\n",
        "df.drop(columns=['zip_code_prefix'], inplace=True)\n",
        "\n",
        "# Junta localização do vendedor\n",
        "df = df.merge(geo, left_on='seller_zip_code_prefix', right_on='zip_code_prefix', how='left')\n",
        "df.rename(columns={'lat': 'seller_lat', 'lng': 'seller_lng'}, inplace=True)\n",
        "df.drop(columns=['zip_code_prefix'], inplace=True)\n",
        "\n",
        "# Calcula a distância entre cliente e vendedor\n",
        "def calcular_distancia(row):\n",
        "    try:\n",
        "        origem = (row['seller_lat'], row['seller_lng'])\n",
        "        destino = (row['customer_lat'], row['customer_lng'])\n",
        "        return geodesic(origem, destino).km\n",
        "    except:\n",
        "        return None\n",
        "\n",
        "df['distancia_km'] = df.apply(calcular_distancia, axis=1)\n",
        "\n",
        "# Remove linhas com distância ou frete nulo\n",
        "df = df.dropna(subset=['distancia_km', 'freight_value'])\n",
        "\n",
        "# Correlação\n",
        "correlacao = df['freight_value'].corr(df['distancia_km'])\n",
        "print(f\"Correlação entre distância e valor do frete: {correlacao:.2f}\")\n",
        "\n",
        "# Gráfico de dispersão\n",
        "plt.figure(figsize=(10, 5))\n",
        "plt.scatter(df['distancia_km'], df['freight_value'], alpha=0.3, s=10, color='purple')\n",
        "plt.title('Relação entre Distância de Entrega e Valor do Frete')\n",
        "plt.xlabel('Distância (km)')\n",
        "plt.ylabel('Valor do Frete (R$)')\n",
        "plt.grid(True)\n",
        "plt.show()"
      ],
      "metadata": {
        "colab": {
          "base_uri": "https://localhost:8080/",
          "height": 514
        },
        "id": "8dpveX4gNP23",
        "outputId": "3e7cce35-b975-4025-f6b0-ad3c386ca9ae"
      },
      "execution_count": 61,
      "outputs": [
        {
          "output_type": "stream",
          "name": "stdout",
          "text": [
            "Correlação entre distância e valor do frete: 0.39\n"
          ]
        },
        {
          "output_type": "display_data",
          "data": {
            "text/plain": [
              "<Figure size 1000x500 with 1 Axes>"
            ],
            "image/png": "[encoded data removed]"
          },
          "metadata": {}
        }
      ]
    },
    {
      "cell_type": "markdown",
      "source": [
        "A relação entre o valor do frete e a distância de entrega apresenta uma correlação positiva moderada de 0,39, indicando que, em geral, quanto maior a distância entre o vendedor e o cliente, maior tende a ser o custo do frete. No entanto, o valor do frete não depende apenas da distância, pois a correlação não é muito alta, o que sugere que outros fatores, como peso do produto, volume, tipo de transporte e políticas comerciais, também influenciam significativamente o preço cobrado. Essa dispersão pode ser observada na distribuição dos dados, onde pedidos com distâncias semelhantes apresentam valores de frete bastante variados."
      ],
      "metadata": {
        "id": "0Cu-6jzoN2CP"
      }
    },
    {
      "cell_type": "markdown",
      "source": [
        "## d) Quais são as categorias de produtos mais vendidas em termos de faturamento?"
      ],
      "metadata": {
        "id": "T3jdV6kgCZG0"
      }
    },
    {
      "cell_type": "code",
      "source": [
        "orders_full['faturamento_item'] = orders_full['price']  # assumindo 1 unidade por item\n",
        "\n",
        "# Soma faturamento por categoria traduzida\n",
        "faturamento_categoria = orders_full.groupby('product_category_name_english')['faturamento_item'].sum().reset_index()\n",
        "\n",
        "# Ordena por faturamento decrescente\n",
        "faturamento_categoria = faturamento_categoria.sort_values(by='faturamento_item', ascending=False)\n",
        "\n",
        "# Mostra as top 10 categorias\n",
        "print(faturamento_categoria.head(10).to_string(index=False))"
      ],
      "metadata": {
        "colab": {
          "base_uri": "https://localhost:8080/"
        },
        "id": "DymcpyvlOFuc",
        "outputId": "8cb321e2-3742-4769-91af-48dd0584f3a6"
      },
      "execution_count": 62,
      "outputs": [
        {
          "output_type": "stream",
          "name": "stdout",
          "text": [
            "product_category_name_english  faturamento_item\n",
            "                health_beauty        1271548.15\n",
            "                watches_gifts        1213452.70\n",
            "               bed_bath_table        1077834.14\n",
            "               sports_leisure         990454.67\n",
            "        computers_accessories         918837.87\n",
            "              furniture_decor         745748.80\n",
            "                   housewares         648187.74\n",
            "                   cool_stuff         634163.78\n",
            "                         auto         602881.75\n",
            "                 garden_tools         492255.08\n"
          ]
        }
      ]
    },
    {
      "cell_type": "markdown",
      "source": [
        "As categorias de produtos que mais se destacam em termos de faturamento são \"health\\_beauty\" (saúde e beleza), \"watches\\_gifts\" (relógios e presentes) e \"bed\\_bath\\_table\" (cama, banho e mesa), liderando as vendas com receitas superiores a um milhão de reais cada. Essas categorias representam segmentos com alta demanda e/ou produtos com maior valor agregado, o que resulta no maior faturamento total."
      ],
      "metadata": {
        "id": "8pbXKgzpOR20"
      }
    },
    {
      "cell_type": "markdown",
      "source": [
        "## e) Quais estados brasileiros possuem o maior valor médio de pedido?"
      ],
      "metadata": {
        "id": "8tK4Sh8WCdeK"
      }
    },
    {
      "cell_type": "code",
      "source": [
        "# Agrupa por estado do cliente e calcula o valor médio do pedido\n",
        "valor_medio_por_estado = orders_full.groupby('customer_state')['price'].mean().reset_index()\n",
        "\n",
        "# Ordena do maior para o menor\n",
        "valor_medio_por_estado = valor_medio_por_estado.sort_values(by='price', ascending=False)\n",
        "\n",
        "# Renomeia colunas para melhor entendimento\n",
        "valor_medio_por_estado.columns = ['Estado', 'Valor Médio do Pedido']\n",
        "\n",
        "# Mostra os top 10 estados\n",
        "print(valor_medio_por_estado.head(10).to_string(index=False))"
      ],
      "metadata": {
        "colab": {
          "base_uri": "https://localhost:8080/"
        },
        "id": "dN8YBOycOsnm",
        "outputId": "a5c49ce0-0c1f-4ba5-80fa-bd8b2951ccf0"
      },
      "execution_count": 63,
      "outputs": [
        {
          "output_type": "stream",
          "name": "stdout",
          "text": [
            "Estado  Valor Médio do Pedido\n",
            "    PB             194.293868\n",
            "    AL             185.150272\n",
            "    AC             180.930426\n",
            "    RN             166.889893\n",
            "    RO             165.502313\n",
            "    PA             165.074000\n",
            "    TO             164.768503\n",
            "    AP             163.310964\n",
            "    PI             162.549060\n",
            "    CE             154.766969\n"
          ]
        }
      ]
    },
    {
      "cell_type": "markdown",
      "source": [
        "Os estados brasileiros com o maior valor médio de pedido no e-commerce são, surpreendentemente, principalmente do Norte e Nordeste do país, como Paraíba (PB), Alagoas (AL), Acre (AC), Rio Grande do Norte (RN) e Rondônia (RO). Esses estados apresentam valores médios de pedido acima de R\\$160, indicando que, embora tenham menor volume total de vendas, os consumidores tendem a realizar compras com ticket médio mais alto. Provavelmente, esse maior valor médio se deve ao custo elevado do frete nessas regiões, o que eleva o preço final dos pedidos. Esse fenômeno evidencia como fatores logísticos influenciam diretamente o comportamento de compra e o faturamento do e-commerce nas diferentes regiões do Brasil."
      ],
      "metadata": {
        "id": "iRtYsCDFQG9U"
      }
    },
    {
      "cell_type": "markdown",
      "source": [
        "# **3. Solução de Problemas de Negócio**"
      ],
      "metadata": {
        "id": "0REy7xZLQ2O0"
      }
    },
    {
      "cell_type": "markdown",
      "source": [
        "## 1. Análise de Retenção"
      ],
      "metadata": {
        "id": "OG2s_W5gQ45C"
      }
    },
    {
      "cell_type": "code",
      "source": [
        "# Contagem de pedidos por cliente\n",
        "pedidos_por_cliente = orders_full.groupby('customer_unique_id')['order_id'].nunique().reset_index()\n",
        "pedidos_por_cliente.columns = ['customer_unique_id', 'num_pedidos']\n",
        "\n",
        "# Classifica clientes recorrentes\n",
        "clientes_recorrentes = pedidos_por_cliente[pedidos_por_cliente['num_pedidos'] > 1]\n",
        "clientes_unicos_total = pedidos_por_cliente.shape[0]\n",
        "\n",
        "# Calcula taxa de clientes recorrentes\n",
        "taxa_recorrencia = len(clientes_recorrentes) / clientes_unicos_total\n",
        "print(f\"Taxa de clientes recorrentes: {taxa_recorrencia:.2%}\")"
      ],
      "metadata": {
        "colab": {
          "base_uri": "https://localhost:8080/"
        },
        "id": "3P4ptZS6vRl6",
        "outputId": "b025ed25-d2c5-4097-991c-a2445716abc1"
      },
      "execution_count": 64,
      "outputs": [
        {
          "output_type": "stream",
          "name": "stdout",
          "text": [
            "Taxa de clientes recorrentes: 3.00%\n"
          ]
        }
      ]
    },
    {
      "cell_type": "markdown",
      "source": [
        "A taxa de clientes recorrentes no período analisado foi de apenas 3%, o que indica que 97% dos clientes compraram apenas uma vez na plataforma. Esse número evidencia uma baixa retenção de consumidores, o que representa uma oportunidade significativa de melhoria: investir em estratégias de fidelização — como programas de recompensas, e-mails personalizados, descontos para segunda compra e acompanhamento pós-venda — pode aumentar substancialmente o valor de cada cliente ao longo do tempo.\n"
      ],
      "metadata": {
        "id": "GXBb-BY6vy-O"
      }
    },
    {
      "cell_type": "markdown",
      "source": [
        "## 2. Predição de Atraso"
      ],
      "metadata": {
        "id": "qK3LizF1Q_6z"
      }
    },
    {
      "cell_type": "markdown",
      "source": [
        "Um pedido será considerado atrasado se a data de entrega ao cliente for posterior à data estimada de entrega (*order_delivered_customer_date* > *order_estimated_delivery_date*)"
      ],
      "metadata": {
        "id": "lujISMK5wdYB"
      }
    },
    {
      "cell_type": "code",
      "source": [
        "# Filtra pedidos com datas completas\n",
        "df_entregas = orders_full.dropna(subset=['order_delivered_customer_date', 'order_estimated_delivery_date'])\n",
        "\n",
        "# Cria variável binária de atraso\n",
        "df_entregas['atrasado'] = (df_entregas['order_delivered_customer_date'] > df_entregas['order_estimated_delivery_date']).astype(int)"
      ],
      "metadata": {
        "id": "W2Hen2-zwHJ5"
      },
      "execution_count": 65,
      "outputs": []
    },
    {
      "cell_type": "code",
      "source": [
        "# Conversão para datetime\n",
        "df_entregas['order_delivered_customer_date'] = pd.to_datetime(df_entregas['order_delivered_customer_date'])\n",
        "df_entregas['order_purchase_timestamp'] = pd.to_datetime(df_entregas['order_purchase_timestamp'])\n",
        "\n",
        "# Cria as features\n",
        "df_entregas['tempo_envio_dias'] = (df_entregas['order_delivered_customer_date'] - df_entregas['order_purchase_timestamp']).dt.days\n",
        "df_entregas['quantidade_itens'] = df_entregas.groupby('order_id')['order_item_id'].transform('count')\n",
        "df_entregas['valor_total'] = df_entregas['price'] + df_entregas['freight_value']\n",
        "\n",
        "# Seleciona colunas finais para o modelo\n",
        "features = df_entregas[['tempo_envio_dias', 'freight_value', 'valor_total', 'quantidade_itens']]\n",
        "target = df_entregas['atrasado']\n",
        "\n",
        "X_train, X_test, y_train, y_test = train_test_split(features, target, test_size=0.2, random_state=42)\n",
        "\n",
        "# Treinamento\n",
        "model = RandomForestClassifier(random_state=42)\n",
        "model.fit(X_train, y_train)\n",
        "\n",
        "# Previsão\n",
        "y_pred = model.predict(X_test)\n",
        "\n",
        "# Avaliação\n",
        "print(classification_report(y_test, y_pred))"
      ],
      "metadata": {
        "id": "8QdubWctxh6K",
        "colab": {
          "base_uri": "https://localhost:8080/"
        },
        "outputId": "5e20c929-4097-4fca-c99e-92a91dbf3768"
      },
      "execution_count": 66,
      "outputs": [
        {
          "output_type": "stream",
          "name": "stdout",
          "text": [
            "              precision    recall  f1-score   support\n",
            "\n",
            "           0       0.97      0.98      0.98     21184\n",
            "           1       0.77      0.69      0.73      1823\n",
            "\n",
            "    accuracy                           0.96     23007\n",
            "   macro avg       0.87      0.84      0.85     23007\n",
            "weighted avg       0.96      0.96      0.96     23007\n",
            "\n"
          ]
        }
      ]
    },
    {
      "cell_type": "markdown",
      "source": [
        "O modelo de predição de atraso apresentou um bom desempenho geral, com 96% de acurácia. Para os pedidos entregues no prazo (classe 0), o modelo teve excelente precisão (97%) e recall (98%), indicando que ele identifica corretamente quase todos os pedidos pontuais. No entanto, seu desempenho para prever atrasos (classe 1) foi mais modesto, com precisão de 77% e recall de 69%. Isso significa que ele consegue identificar corretamente a maioria dos pedidos atrasados, mas ainda deixa passar uma parte deles. A diferença de desempenho entre as classes se deve, em parte, ao desbalanceamento dos dados (há muito mais pedidos entregues no prazo do que com atraso)."
      ],
      "metadata": {
        "id": "2MO3L64LyeEb"
      }
    },
    {
      "cell_type": "markdown",
      "source": [
        "## 3. Segmentação de Clientes"
      ],
      "metadata": {
        "id": "UoSOBDQWREl9"
      }
    },
    {
      "cell_type": "code",
      "source": [
        "# Agrupa por cliente\n",
        "clientes = df_entregas.groupby('customer_unique_id').agg(\n",
        "    frequencia=('order_id', 'nunique'),\n",
        "    valor_total=('price', 'sum'),\n",
        "    ticket_medio=('price', 'mean'),\n",
        "    primeira_compra=('order_purchase_timestamp', 'min'),\n",
        "    ultima_compra=('order_purchase_timestamp', 'max')\n",
        ").reset_index()\n",
        "\n",
        "# Converte datas\n",
        "clientes['primeira_compra'] = pd.to_datetime(clientes['primeira_compra'])\n",
        "clientes['ultima_compra'] = pd.to_datetime(clientes['ultima_compra'])\n",
        "\n",
        "# Tempo médio entre compras (aproximação simples)\n",
        "clientes['dias_entre_compras'] = (\n",
        "    (clientes['ultima_compra'] - clientes['primeira_compra']).dt.days / (clientes['frequencia'] - 1)\n",
        ").replace([np.inf, -np.inf], np.nan).fillna(0)\n",
        "\n",
        "# Seleciona features e normalizar\n",
        "features_cluster = clientes[['frequencia', 'valor_total', 'ticket_medio', 'dias_entre_compras']]\n",
        "features_normalizadas = StandardScaler().fit_transform(features_cluster)\n",
        "\n",
        "# Escolha do número de clusters (exemplo: 4)\n",
        "kmeans = KMeans(n_clusters=4, random_state=42)\n",
        "clientes['cluster'] = kmeans.fit_predict(features_normalizadas)\n",
        "\n",
        "# Perfil médio por cluster\n",
        "perfil_clusters = clientes.groupby('cluster')[['frequencia', 'valor_total', 'ticket_medio', 'dias_entre_compras']].mean()\n",
        "print(perfil_clusters)"
      ],
      "metadata": {
        "id": "c_F59QSN3SsG",
        "colab": {
          "base_uri": "https://localhost:8080/"
        },
        "outputId": "1297b326-8953-424d-8aff-9a137175a9de"
      },
      "execution_count": 67,
      "outputs": [
        {
          "output_type": "stream",
          "name": "stdout",
          "text": [
            "         frequencia  valor_total  ticket_medio  dias_entre_compras\n",
            "cluster                                                           \n",
            "0          1.027375   511.396466    434.170178            0.242392\n",
            "1          2.230044   279.197460    103.449983          155.611702\n",
            "2          1.014381    96.745163     85.176926            0.107913\n",
            "3          1.019036  1886.519391   1535.880475            0.340525\n"
          ]
        }
      ]
    },
    {
      "cell_type": "markdown",
      "source": [
        "O Cluster 3 representa clientes de alto valor, com ticket médio elevado (R$1535,88) e valor total gasto mais alto, ainda que com baixa frequência — são clientes valiosos que fazem compras pontuais de alto valor, ideais para estratégias de luxo, produtos premium ou exclusividades.\n",
        "\n",
        "O Cluster 0 é semelhante, com ticket médio alto, mas menor gasto total, podendo indicar compras grandes únicas — bom alvo para fidelização.\n",
        "\n",
        "O Cluster 1 representa clientes recorrentes, com frequência média acima de 2 e ticket médio baixo (~R$103), sugerindo compradores frequentes de itens acessíveis — ideais para campanhas de fidelização, descontos progressivos e programas de pontos.\n",
        "\n",
        "Já o Cluster 2 agrupa clientes com baixo engajamento (baixa frequência, baixo gasto total e ticket médio), sendo potenciais alvos para campanhas de reativação e descoberta de produtos."
      ],
      "metadata": {
        "id": "QEnuPb-43xuN"
      }
    },
    {
      "cell_type": "markdown",
      "source": [
        "## 4. Análise de Satisfação"
      ],
      "metadata": {
        "id": "oBwCsHISRHy0"
      }
    },
    {
      "cell_type": "code",
      "source": [
        "# Seleciona colunas relevantes\n",
        "avaliacoes = orders_full[[\n",
        "    'review_score',\n",
        "    'order_delivered_customer_date',\n",
        "    'order_estimated_delivery_date',\n",
        "    'order_purchase_timestamp',\n",
        "    'product_category_name_english',\n",
        "    'price',\n",
        "    'freight_value'\n",
        "]].dropna()\n",
        "\n",
        "# Conversão para datetime\n",
        "avaliacoes['order_purchase_timestamp'] = pd.to_datetime(avaliacoes['order_purchase_timestamp'])\n",
        "avaliacoes['order_delivered_customer_date'] = pd.to_datetime(avaliacoes['order_delivered_customer_date'])\n",
        "avaliacoes['order_estimated_delivery_date'] = pd.to_datetime(avaliacoes['order_estimated_delivery_date'])\n",
        "\n",
        "# Tempo real de entrega\n",
        "avaliacoes['tempo_entrega'] = (avaliacoes['order_delivered_customer_date'] - avaliacoes['order_purchase_timestamp']).dt.days\n",
        "\n",
        "# Atraso em relação à estimativa\n",
        "avaliacoes['dias_atraso'] = (avaliacoes['order_delivered_customer_date'] - avaliacoes['order_estimated_delivery_date']).dt.days\n",
        "avaliacoes['dias_atraso'] = avaliacoes['dias_atraso'].apply(lambda x: x if x > 0 else 0)  # ignora entregas no prazo\n",
        "\n",
        "# Valor total\n",
        "avaliacoes['valor_total'] = avaliacoes['price'] + avaliacoes['freight_value']\n",
        "correlacoes = avaliacoes[['review_score', 'tempo_entrega', 'dias_atraso', 'price', 'freight_value', 'valor_total']].corr()\n",
        "print(correlacoes['review_score'].sort_values(ascending=False))"
      ],
      "metadata": {
        "colab": {
          "base_uri": "https://localhost:8080/"
        },
        "id": "_PTUd6uXi1-0",
        "outputId": "9791eac7-5ac2-48da-f9ab-ac9a0a7d7018"
      },
      "execution_count": 68,
      "outputs": [
        {
          "output_type": "stream",
          "name": "stdout",
          "text": [
            "review_score     1.000000\n",
            "price           -0.018493\n",
            "valor_total     -0.020351\n",
            "freight_value   -0.030055\n",
            "dias_atraso     -0.218882\n",
            "tempo_entrega   -0.245927\n",
            "Name: review_score, dtype: float64\n"
          ]
        }
      ]
    },
    {
      "cell_type": "markdown",
      "source": [
        "O fator com maior impacto negativo na satisfação é o tempo total de entrega, seguido pelos atrasos, ou seja, melhorar a eficiência logística e garantir entregas no prazo são as ações mais eficazes para aumentar a satisfação do cliente. Por outro lado, preço e frete têm influência muito pequena ou quase nula sobre a avaliação do cliente e, dessa forma, reduzir esses indicadores não é tão impactante."
      ],
      "metadata": {
        "id": "HgABE70ojrWs"
      }
    },
    {
      "cell_type": "markdown",
      "source": [
        "# **4. Visualização e Dashboards**"
      ],
      "metadata": {
        "id": "ba0zLZ2lRJDz"
      }
    },
    {
      "cell_type": "markdown",
      "source": [
        "## 2. Mapa de calor mostrando a concentração de vendas por região/estado do Brasil\n"
      ],
      "metadata": {
        "id": "_xH0hnOBoawQ"
      }
    },
    {
      "cell_type": "code",
      "source": [
        "# Agrupa a quantidade de pedidos por estado\n",
        "vendas_por_estado = orders_full.groupby('customer_state')['order_id'].nunique().reset_index()\n",
        "vendas_por_estado.columns = ['Estado', 'Quantidade de Pedidos']\n",
        "\n",
        "# Mapa de calor\n",
        "fig = px.choropleth(\n",
        "    vendas_por_estado,\n",
        "    geojson='https://raw.githubusercontent.com/codeforamerica/click_that_hood/master/public/data/brazil-states.geojson',\n",
        "    featureidkey='properties.sigla',\n",
        "    locations='Estado',\n",
        "    color='Quantidade de Pedidos',\n",
        "    color_continuous_scale='YlOrRd',\n",
        "    scope='south america',\n",
        "    labels={'Quantidade de Pedidos': 'Pedidos'},\n",
        "    title='Concentração de Vendas por Estado no Brasil'\n",
        ")\n",
        "\n",
        "fig.update_geos(fitbounds=\"locations\", visible=False)\n",
        "fig.show()"
      ],
      "metadata": {
        "colab": {
          "base_uri": "https://localhost:8080/",
          "height": 542
        },
        "id": "OqI1_ixwl74y",
        "outputId": "6d52072f-305a-4747-f07e-0b03e62b78c3"
      },
      "execution_count": 69,
      "outputs": [
        {
          "output_type": "display_data",
          "data": {
            "text/html": [
              "<html>\n",
              "<head><meta charset=\"utf-8\" /></head>\n",
              "<body>\n",
              "    <div>            <script src=\"https://cdnjs.cloudflare.com/ajax/libs/mathjax/2.7.5/MathJax.js?config=TeX-AMS-MML_SVG\"></script><script type=\"text/javascript\">if (window.MathJax && window.MathJax.Hub && window.MathJax.Hub.Config) {window.MathJax.Hub.Config({SVG: {font: \"STIX-Web\"}});}</script>                <script type=\"text/javascript\">window.PlotlyConfig = {MathJaxConfig: 'local'};</script>\n",
              "        <script charset=\"utf-8\" src=\"https://cdn.plot.ly/plotly-2.35.2.min.js\"></script>                <div id=\"9668cca4-6155-4784-b409-e55cdc260bc7\" class=\"plotly-graph-div\" style=\"height:525px; width:100%;\"></div>            <script type=\"text/javascript\">                                    window.PLOTLYENV=window.PLOTLYENV || {};                                    if (document.getElementById(\"9668cca4-6155-4784-b409-e55cdc260bc7\")) {                    Plotly.newPlot(                        \"9668cca4-6155-4784-b409-e55cdc260bc7\",                        [{\"coloraxis\":\"coloraxis\",\"featureidkey\":\"properties.sigla\",\"geo\":\"geo\",\"geojson\":\"https:\\u002f\\u002fraw.githubusercontent.com\\u002fcodeforamerica\\u002fclick_that_hood\\u002fmaster\\u002fpublic\\u002fdata\\u002fbrazil-states.geojson\",\"hovertemplate\":\"Estado=%{location}\\u003cbr\\u003ePedidos=%{z}\\u003cextra\\u003e\\u003c\\u002fextra\\u003e\",\"locations\":[\"AC\",\"AL\",\"AM\",\"AP\",\"BA\",\"CE\",\"DF\",\"ES\",\"GO\",\"MA\",\"MG\",\"MS\",\"MT\",\"PA\",\"PB\",\"PE\",\"PI\",\"PR\",\"RJ\",\"RN\",\"RO\",\"RR\",\"RS\",\"SC\",\"SE\",\"SP\",\"TO\"],\"name\":\"\",\"z\":[80,397,145,67,3256,1278,2080,1995,1957,716,11352,701,886,946,517,1593,476,4923,12351,474,243,41,5342,3547,335,40489,274],\"type\":\"choropleth\"}],                        {\"template\":{\"data\":{\"histogram2dcontour\":[{\"type\":\"histogram2dcontour\",\"colorbar\":{\"outlinewidth\":0,\"ticks\":\"\"},\"colorscale\":[[0.0,\"#0d0887\"],[0.1111111111111111,\"#46039f\"],[0.2222222222222222,\"#7201a8\"],[0.3333333333333333,\"#9c179e\"],[0.4444444444444444,\"#bd3786\"],[0.5555555555555556,\"#d8576b\"],[0.6666666666666666,\"#ed7953\"],[0.7777777777777778,\"#fb9f3a\"],[0.8888888888888888,\"#fdca26\"],[1.0,\"#f0f921\"]]}],\"choropleth\":[{\"type\":\"choropleth\",\"colorbar\":{\"outlinewidth\":0,\"ticks\":\"\"}}],\"histogram2d\":[{\"type\":\"histogram2d\",\"colorbar\":{\"outlinewidth\":0,\"ticks\":\"\"},\"colorscale\":[[0.0,\"#0d0887\"],[0.1111111111111111,\"#46039f\"],[0.2222222222222222,\"#7201a8\"],[0.3333333333333333,\"#9c179e\"],[0.4444444444444444,\"#bd3786\"],[0.5555555555555556,\"#d8576b\"],[0.6666666666666666,\"#ed7953\"],[0.7777777777777778,\"#fb9f3a\"],[0.8888888888888888,\"#fdca26\"],[1.0,\"#f0f921\"]]}],\"heatmap\":[{\"type\":\"heatmap\",\"colorbar\":{\"outlinewidth\":0,\"ticks\":\"\"},\"colorscale\":[[0.0,\"#0d0887\"],[0.1111111111111111,\"#46039f\"],[0.2222222222222222,\"#7201a8\"],[0.3333333333333333,\"#9c179e\"],[0.4444444444444444,\"#bd3786\"],[0.5555555555555556,\"#d8576b\"],[0.6666666666666666,\"#ed7953\"],[0.7777777777777778,\"#fb9f3a\"],[0.8888888888888888,\"#fdca26\"],[1.0,\"#f0f921\"]]}],\"heatmapgl\":[{\"type\":\"heatmapgl\",\"colorbar\":{\"outlinewidth\":0,\"ticks\":\"\"},\"colorscale\":[[0.0,\"#0d0887\"],[0.1111111111111111,\"#46039f\"],[0.2222222222222222,\"#7201a8\"],[0.3333333333333333,\"#9c179e\"],[0.4444444444444444,\"#bd3786\"],[0.5555555555555556,\"#d8576b\"],[0.6666666666666666,\"#ed7953\"],[0.7777777777777778,\"#fb9f3a\"],[0.8888888888888888,\"#fdca26\"],[1.0,\"#f0f921\"]]}],\"contourcarpet\":[{\"type\":\"contourcarpet\",\"colorbar\":{\"outlinewidth\":0,\"ticks\":\"\"}}],\"contour\":[{\"type\":\"contour\",\"colorbar\":{\"outlinewidth\":0,\"ticks\":\"\"},\"colorscale\":[[0.0,\"#0d0887\"],[0.1111111111111111,\"#46039f\"],[0.2222222222222222,\"#7201a8\"],[0.3333333333333333,\"#9c179e\"],[0.4444444444444444,\"#bd3786\"],[0.5555555555555556,\"#d8576b\"],[0.6666666666666666,\"#ed7953\"],[0.7777777777777778,\"#fb9f3a\"],[0.8888888888888888,\"#fdca26\"],[1.0,\"#f0f921\"]]}],\"surface\":[{\"type\":\"surface\",\"colorbar\":{\"outlinewidth\":0,\"ticks\":\"\"},\"colorscale\":[[0.0,\"#0d0887\"],[0.1111111111111111,\"#46039f\"],[0.2222222222222222,\"#7201a8\"],[0.3333333333333333,\"#9c179e\"],[0.4444444444444444,\"#bd3786\"],[0.5555555555555556,\"#d8576b\"],[0.6666666666666666,\"#ed7953\"],[0.7777777777777778,\"#fb9f3a\"],[0.8888888888888888,\"#fdca26\"],[1.0,\"#f0f921\"]]}],\"mesh3d\":[{\"type\":\"mesh3d\",\"colorbar\":{\"outlinewidth\":0,\"ticks\":\"\"}}],\"scatter\":[{\"fillpattern\":{\"fillmode\":\"overlay\",\"size\":10,\"solidity\":0.2},\"type\":\"scatter\"}],\"parcoords\":[{\"type\":\"parcoords\",\"line\":{\"colorbar\":{\"outlinewidth\":0,\"ticks\":\"\"}}}],\"scatterpolargl\":[{\"type\":\"scatterpolargl\",\"marker\":{\"colorbar\":{\"outlinewidth\":0,\"ticks\":\"\"}}}],\"bar\":[{\"error_x\":{\"color\":\"#2a3f5f\"},\"error_y\":{\"color\":\"#2a3f5f\"},\"marker\":{\"line\":{\"color\":\"#E5ECF6\",\"width\":0.5},\"pattern\":{\"fillmode\":\"overlay\",\"size\":10,\"solidity\":0.2}},\"type\":\"bar\"}],\"scattergeo\":[{\"type\":\"scattergeo\",\"marker\":{\"colorbar\":{\"outlinewidth\":0,\"ticks\":\"\"}}}],\"scatterpolar\":[{\"type\":\"scatterpolar\",\"marker\":{\"colorbar\":{\"outlinewidth\":0,\"ticks\":\"\"}}}],\"histogram\":[{\"marker\":{\"pattern\":{\"fillmode\":\"overlay\",\"size\":10,\"solidity\":0.2}},\"type\":\"histogram\"}],\"scattergl\":[{\"type\":\"scattergl\",\"marker\":{\"colorbar\":{\"outlinewidth\":0,\"ticks\":\"\"}}}],\"scatter3d\":[{\"type\":\"scatter3d\",\"line\":{\"colorbar\":{\"outlinewidth\":0,\"ticks\":\"\"}},\"marker\":{\"colorbar\":{\"outlinewidth\":0,\"ticks\":\"\"}}}],\"scattermapbox\":[{\"type\":\"scattermapbox\",\"marker\":{\"colorbar\":{\"outlinewidth\":0,\"ticks\":\"\"}}}],\"scatterternary\":[{\"type\":\"scatterternary\",\"marker\":{\"colorbar\":{\"outlinewidth\":0,\"ticks\":\"\"}}}],\"scattercarpet\":[{\"type\":\"scattercarpet\",\"marker\":{\"colorbar\":{\"outlinewidth\":0,\"ticks\":\"\"}}}],\"carpet\":[{\"aaxis\":{\"endlinecolor\":\"#2a3f5f\",\"gridcolor\":\"white\",\"linecolor\":\"white\",\"minorgridcolor\":\"white\",\"startlinecolor\":\"#2a3f5f\"},\"baxis\":{\"endlinecolor\":\"#2a3f5f\",\"gridcolor\":\"white\",\"linecolor\":\"white\",\"minorgridcolor\":\"white\",\"startlinecolor\":\"#2a3f5f\"},\"type\":\"carpet\"}],\"table\":[{\"cells\":{\"fill\":{\"color\":\"#EBF0F8\"},\"line\":{\"color\":\"white\"}},\"header\":{\"fill\":{\"color\":\"#C8D4E3\"},\"line\":{\"color\":\"white\"}},\"type\":\"table\"}],\"barpolar\":[{\"marker\":{\"line\":{\"color\":\"#E5ECF6\",\"width\":0.5},\"pattern\":{\"fillmode\":\"overlay\",\"size\":10,\"solidity\":0.2}},\"type\":\"barpolar\"}],\"pie\":[{\"automargin\":true,\"type\":\"pie\"}]},\"layout\":{\"autotypenumbers\":\"strict\",\"colorway\":[\"#636efa\",\"#EF553B\",\"#00cc96\",\"#ab63fa\",\"#FFA15A\",\"#19d3f3\",\"#FF6692\",\"#B6E880\",\"#FF97FF\",\"#FECB52\"],\"font\":{\"color\":\"#2a3f5f\"},\"hovermode\":\"closest\",\"hoverlabel\":{\"align\":\"left\"},\"paper_bgcolor\":\"white\",\"plot_bgcolor\":\"#E5ECF6\",\"polar\":{\"bgcolor\":\"#E5ECF6\",\"angularaxis\":{\"gridcolor\":\"white\",\"linecolor\":\"white\",\"ticks\":\"\"},\"radialaxis\":{\"gridcolor\":\"white\",\"linecolor\":\"white\",\"ticks\":\"\"}},\"ternary\":{\"bgcolor\":\"#E5ECF6\",\"aaxis\":{\"gridcolor\":\"white\",\"linecolor\":\"white\",\"ticks\":\"\"},\"baxis\":{\"gridcolor\":\"white\",\"linecolor\":\"white\",\"ticks\":\"\"},\"caxis\":{\"gridcolor\":\"white\",\"linecolor\":\"white\",\"ticks\":\"\"}},\"coloraxis\":{\"colorbar\":{\"outlinewidth\":0,\"ticks\":\"\"}},\"colorscale\":{\"sequential\":[[0.0,\"#0d0887\"],[0.1111111111111111,\"#46039f\"],[0.2222222222222222,\"#7201a8\"],[0.3333333333333333,\"#9c179e\"],[0.4444444444444444,\"#bd3786\"],[0.5555555555555556,\"#d8576b\"],[0.6666666666666666,\"#ed7953\"],[0.7777777777777778,\"#fb9f3a\"],[0.8888888888888888,\"#fdca26\"],[1.0,\"#f0f921\"]],\"sequentialminus\":[[0.0,\"#0d0887\"],[0.1111111111111111,\"#46039f\"],[0.2222222222222222,\"#7201a8\"],[0.3333333333333333,\"#9c179e\"],[0.4444444444444444,\"#bd3786\"],[0.5555555555555556,\"#d8576b\"],[0.6666666666666666,\"#ed7953\"],[0.7777777777777778,\"#fb9f3a\"],[0.8888888888888888,\"#fdca26\"],[1.0,\"#f0f921\"]],\"diverging\":[[0,\"#8e0152\"],[0.1,\"#c51b7d\"],[0.2,\"#de77ae\"],[0.3,\"#f1b6da\"],[0.4,\"#fde0ef\"],[0.5,\"#f7f7f7\"],[0.6,\"#e6f5d0\"],[0.7,\"#b8e186\"],[0.8,\"#7fbc41\"],[0.9,\"#4d9221\"],[1,\"#276419\"]]},\"xaxis\":{\"gridcolor\":\"white\",\"linecolor\":\"white\",\"ticks\":\"\",\"title\":{\"standoff\":15},\"zerolinecolor\":\"white\",\"automargin\":true,\"zerolinewidth\":2},\"yaxis\":{\"gridcolor\":\"white\",\"linecolor\":\"white\",\"ticks\":\"\",\"title\":{\"standoff\":15},\"zerolinecolor\":\"white\",\"automargin\":true,\"zerolinewidth\":2},\"scene\":{\"xaxis\":{\"backgroundcolor\":\"#E5ECF6\",\"gridcolor\":\"white\",\"linecolor\":\"white\",\"showbackground\":true,\"ticks\":\"\",\"zerolinecolor\":\"white\",\"gridwidth\":2},\"yaxis\":{\"backgroundcolor\":\"#E5ECF6\",\"gridcolor\":\"white\",\"linecolor\":\"white\",\"showbackground\":true,\"ticks\":\"\",\"zerolinecolor\":\"white\",\"gridwidth\":2},\"zaxis\":{\"backgroundcolor\":\"#E5ECF6\",\"gridcolor\":\"white\",\"linecolor\":\"white\",\"showbackground\":true,\"ticks\":\"\",\"zerolinecolor\":\"white\",\"gridwidth\":2}},\"shapedefaults\":{\"line\":{\"color\":\"#2a3f5f\"}},\"annotationdefaults\":{\"arrowcolor\":\"#2a3f5f\",\"arrowhead\":0,\"arrowwidth\":1},\"geo\":{\"bgcolor\":\"white\",\"landcolor\":\"#E5ECF6\",\"subunitcolor\":\"white\",\"showland\":true,\"showlakes\":true,\"lakecolor\":\"white\"},\"title\":{\"x\":0.05},\"mapbox\":{\"style\":\"light\"}}},\"geo\":{\"domain\":{\"x\":[0.0,1.0],\"y\":[0.0,1.0]},\"center\":{},\"scope\":\"south america\",\"fitbounds\":\"locations\",\"visible\":false},\"coloraxis\":{\"colorbar\":{\"title\":{\"text\":\"Pedidos\"}},\"colorscale\":[[0.0,\"rgb(255,255,204)\"],[0.125,\"rgb(255,237,160)\"],[0.25,\"rgb(254,217,118)\"],[0.375,\"rgb(254,178,76)\"],[0.5,\"rgb(253,141,60)\"],[0.625,\"rgb(252,78,42)\"],[0.75,\"rgb(227,26,28)\"],[0.875,\"rgb(189,0,38)\"],[1.0,\"rgb(128,0,38)\"]]},\"legend\":{\"tracegroupgap\":0},\"title\":{\"text\":\"Concentração de Vendas por Estado no Brasil\"}},                        {\"responsive\": true}                    ).then(function(){\n",
              "                            \n",
              "var gd = document.getElementById('9668cca4-6155-4784-b409-e55cdc260bc7');\n",
              "var x = new MutationObserver(function (mutations, observer) {{\n",
              "        var display = window.getComputedStyle(gd).display;\n",
              "        if (!display || display === 'none') {{\n",
              "            console.log([gd, 'removed!']);\n",
              "            Plotly.purge(gd);\n",
              "            observer.disconnect();\n",
              "        }}\n",
              "}});\n",
              "\n",
              "// Listen for the removal of the full notebook cells\n",
              "var notebookContainer = gd.closest('#notebook-container');\n",
              "if (notebookContainer) {{\n",
              "    x.observe(notebookContainer, {childList: true});\n",
              "}}\n",
              "\n",
              "// Listen for the clearing of the current output cell\n",
              "var outputEl = gd.closest('.output');\n",
              "if (outputEl) {{\n",
              "    x.observe(outputEl, {childList: true});\n",
              "}}\n",
              "\n",
              "                        })                };                            </script>        </div>\n",
              "</body>\n",
              "</html>"
            ]
          },
          "metadata": {}
        }
      ]
    }
  ]
}